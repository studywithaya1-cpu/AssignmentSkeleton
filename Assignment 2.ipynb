{
 "cells": [
  {
   "cell_type": "code",
   "execution_count": 3,
   "id": "511407d6-d5ad-45d5-b09d-c4440a44a206",
   "metadata": {},
   "outputs": [
    {
     "data": {
      "image/png": "[encoded data removed]",
      "text/plain": [
       "<Figure size 640x480 with 1 Axes>"
      ]
     },
     "metadata": {},
     "output_type": "display_data"
    }
   ],
   "source": [
    "#Date : 2025-09-08\n",
    "#Name : Aya Cherair\n",
    "#ID : 40276197\n",
    "\n",
    "import numpy\n",
    "import matplotlib.pyplot as plot\n",
    "\n",
    "#Let's make a black floor\n",
    "black = numpy.zeros((100,100), dtype= numpy.uint8)\n",
    "#Now, add white small squares\n",
    "white = numpy.ones((10,10), dtype = numpy.uint8)\n",
    "\n",
    "#We want to fill some black spots with white\n",
    "black[0:10,0:10] = white\n",
    "black[10:20,10:20] = white\n",
    "\n",
    "#With that we can generate a chessboard\n",
    "square = black[0:20,0:20]\n",
    "chess = numpy.tile(square,(4,4))\n",
    "plot.xticks([])\n",
    "plot.yticks([])\n",
    "plot.imshow(chess,cmap = \"gray\")\n",
    "\n",
    "plot.savefig(\"Assignment2.png\")"
   ]
  },
  {
   "cell_type": "code",
   "execution_count": null,
   "id": "4bdb78ac-6ea3-4a8e-ba7f-714169a1b2f1",
   "metadata": {},
   "outputs": [],
   "source": []
  },
  {
   "cell_type": "code",
   "execution_count": null,
   "id": "691b5b72-0bec-4e93-a453-0bbf1a41afff",
   "metadata": {},
   "outputs": [],
   "source": []
  },
  {
   "cell_type": "code",
   "execution_count": null,
   "id": "d6923128-33fb-41f0-b970-d570ee3294a0",
   "metadata": {},
   "outputs": [],
   "source": []
  },
  {
   "cell_type": "code",
   "execution_count": null,
   "id": "cbef70fa-70da-4c20-bcee-2d79853b79eb",
   "metadata": {},
   "outputs": [],
   "source": []
  }
 ],
 "metadata": {
  "kernelspec": {
   "display_name": "Python 3 (ipykernel)",
   "language": "python",
   "name": "python3"
  },
  "language_info": {
   "codemirror_mode": {
    "name": "ipython",
    "version": 3
   },
   "file_extension": ".py",
   "mimetype": "text/x-python",
   "name": "python",
   "nbconvert_exporter": "python",
   "pygments_lexer": "ipython3",
   "version": "3.13.5"
  }
 },
 "nbformat": 4,
 "nbformat_minor": 5
}
